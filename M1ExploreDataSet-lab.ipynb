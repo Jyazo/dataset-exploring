{
 "cells": [
  {
   "cell_type": "markdown",
   "metadata": {},
   "source": [
    "<p style=\"text-align:center\">\n",
    "    <a href=\"https://skills.network/?utm_medium=Exinfluencer&utm_source=Exinfluencer&utm_content=000026UJ&utm_term=10006555&utm_id=NA-SkillsNetwork-Channel-SkillsNetworkCoursesIBMDA0321ENSkillsNetwork928-2023-01-01\">\n",
    "    <img src=\"https://cf-courses-data.s3.us.cloud-object-storage.appdomain.cloud/assets/logos/SN_web_lightmode.png\" width=\"200\" alt=\"Skills Network Logo\"  />\n",
    "    </a>\n",
    "</p>\n"
   ]
  },
  {
   "cell_type": "markdown",
   "metadata": {},
   "source": [
    "# **2020 Survey Dataset Exploration Lab**\n",
    "\n"
   ]
  },
  {
   "cell_type": "markdown",
   "metadata": {},
   "source": [
    "Estimated time needed: **30** minutes\n"
   ]
  },
  {
   "cell_type": "markdown",
   "metadata": {},
   "source": [
    "## Objectives\n"
   ]
  },
  {
   "cell_type": "markdown",
   "metadata": {},
   "source": [
    "After completing this lab you will be able to:\n"
   ]
  },
  {
   "cell_type": "markdown",
   "metadata": {},
   "source": [
    "-   Load the dataset that will used thru the capstone project.\n",
    "-   Explore the dataset.\n",
    "-   Get familier with the data types.\n"
   ]
  },
  {
   "cell_type": "markdown",
   "metadata": {},
   "source": [
    "## Load the dataset\n"
   ]
  },
  {
   "cell_type": "markdown",
   "metadata": {},
   "source": [
    "Import the required libraries.\n"
   ]
  },
  {
   "cell_type": "code",
   "execution_count": 1,
   "metadata": {},
   "outputs": [],
   "source": [
    "import pandas as pd"
   ]
  },
  {
   "cell_type": "markdown",
   "metadata": {},
   "source": [
    "The dataset is available on the IBM Cloud at the below url.\n"
   ]
  },
  {
   "cell_type": "code",
   "execution_count": 2,
   "metadata": {},
   "outputs": [],
   "source": [
    "dataset_url = \"https://cf-courses-data.s3.us.cloud-object-storage.appdomain.cloud/IBM-DA0321EN-SkillsNetwork/labs/Capstone_edX/Module%201/survey_results_public_2020.csv\""
   ]
  },
  {
   "cell_type": "markdown",
   "metadata": {},
   "source": [
    "Load the data available at dataset_url into a dataframe.\n"
   ]
  },
  {
   "cell_type": "code",
   "execution_count": 3,
   "metadata": {},
   "outputs": [
    {
     "name": "stdout",
     "output_type": "stream",
     "text": [
      "   Respondent                                         MainBranch Hobbyist  \\\n",
      "0           1                     I am a developer by profession      Yes   \n",
      "1           2                     I am a developer by profession       No   \n",
      "2           3                        I code primarily as a hobby      Yes   \n",
      "3           4                     I am a developer by profession      Yes   \n",
      "4           5  I used to be a developer by profession, but no...      Yes   \n",
      "\n",
      "    Age Age1stCode CompFreq  CompTotal  ConvertedComp             Country  \\\n",
      "0   NaN         13  Monthly        NaN            NaN             Germany   \n",
      "1   NaN         19      NaN        NaN            NaN      United Kingdom   \n",
      "2   NaN         15      NaN        NaN            NaN  Russian Federation   \n",
      "3  25.0         18      NaN        NaN            NaN             Albania   \n",
      "4  31.0         16      NaN        NaN            NaN       United States   \n",
      "\n",
      "     CurrencyDesc  ...                  SurveyEase           SurveyLength  \\\n",
      "0   European Euro  ...  Neither easy nor difficult  Appropriate in length   \n",
      "1  Pound sterling  ...                         NaN                    NaN   \n",
      "2             NaN  ...  Neither easy nor difficult  Appropriate in length   \n",
      "3    Albanian lek  ...                         NaN                    NaN   \n",
      "4             NaN  ...                        Easy              Too short   \n",
      "\n",
      "  Trans                                     UndergradMajor  \\\n",
      "0    No  Computer science, computer engineering, or sof...   \n",
      "1   NaN  Computer science, computer engineering, or sof...   \n",
      "2   NaN                                                NaN   \n",
      "3    No  Computer science, computer engineering, or sof...   \n",
      "4    No  Computer science, computer engineering, or sof...   \n",
      "\n",
      "  WebframeDesireNextYear    WebframeWorkedWith  \\\n",
      "0           ASP.NET Core  ASP.NET;ASP.NET Core   \n",
      "1                    NaN                   NaN   \n",
      "2                    NaN                   NaN   \n",
      "3                    NaN                   NaN   \n",
      "4   Django;Ruby on Rails         Ruby on Rails   \n",
      "\n",
      "                              WelcomeChange WorkWeekHrs YearsCode YearsCodePro  \n",
      "0   Just as welcome now as I felt last year        50.0        36           27  \n",
      "1  Somewhat more welcome now than last year         NaN         7            4  \n",
      "2  Somewhat more welcome now than last year         NaN         4          NaN  \n",
      "3  Somewhat less welcome now than last year        40.0         7            4  \n",
      "4   Just as welcome now as I felt last year         NaN        15            8  \n",
      "\n",
      "[5 rows x 61 columns]\n"
     ]
    }
   ],
   "source": [
    "# your code goes here\n",
    "df = pd.read_csv(dataset_url)\n",
    "print(df.head())"
   ]
  },
  {
   "cell_type": "markdown",
   "metadata": {},
   "source": [
    "## Explore the data set\n"
   ]
  },
  {
   "cell_type": "markdown",
   "metadata": {},
   "source": [
    "It is a good idea to print the top 5 rows of the dataset to get a feel of how the dataset will look.\n"
   ]
  },
  {
   "cell_type": "markdown",
   "metadata": {},
   "source": [
    "Display the top 5 rows and columns from your dataset.\n"
   ]
  },
  {
   "cell_type": "code",
   "execution_count": 5,
   "metadata": {},
   "outputs": [
    {
     "name": "stdout",
     "output_type": "stream",
     "text": [
      "   Respondent                                         MainBranch Hobbyist  \\\n",
      "0           1                     I am a developer by profession      Yes   \n",
      "1           2                     I am a developer by profession       No   \n",
      "2           3                        I code primarily as a hobby      Yes   \n",
      "3           4                     I am a developer by profession      Yes   \n",
      "4           5  I used to be a developer by profession, but no...      Yes   \n",
      "\n",
      "    Age Age1stCode CompFreq  CompTotal  ConvertedComp             Country  \\\n",
      "0   NaN         13  Monthly        NaN            NaN             Germany   \n",
      "1   NaN         19      NaN        NaN            NaN      United Kingdom   \n",
      "2   NaN         15      NaN        NaN            NaN  Russian Federation   \n",
      "3  25.0         18      NaN        NaN            NaN             Albania   \n",
      "4  31.0         16      NaN        NaN            NaN       United States   \n",
      "\n",
      "     CurrencyDesc  ...                  SurveyEase           SurveyLength  \\\n",
      "0   European Euro  ...  Neither easy nor difficult  Appropriate in length   \n",
      "1  Pound sterling  ...                         NaN                    NaN   \n",
      "2             NaN  ...  Neither easy nor difficult  Appropriate in length   \n",
      "3    Albanian lek  ...                         NaN                    NaN   \n",
      "4             NaN  ...                        Easy              Too short   \n",
      "\n",
      "  Trans                                     UndergradMajor  \\\n",
      "0    No  Computer science, computer engineering, or sof...   \n",
      "1   NaN  Computer science, computer engineering, or sof...   \n",
      "2   NaN                                                NaN   \n",
      "3    No  Computer science, computer engineering, or sof...   \n",
      "4    No  Computer science, computer engineering, or sof...   \n",
      "\n",
      "  WebframeDesireNextYear    WebframeWorkedWith  \\\n",
      "0           ASP.NET Core  ASP.NET;ASP.NET Core   \n",
      "1                    NaN                   NaN   \n",
      "2                    NaN                   NaN   \n",
      "3                    NaN                   NaN   \n",
      "4   Django;Ruby on Rails         Ruby on Rails   \n",
      "\n",
      "                              WelcomeChange WorkWeekHrs YearsCode YearsCodePro  \n",
      "0   Just as welcome now as I felt last year        50.0        36           27  \n",
      "1  Somewhat more welcome now than last year         NaN         7            4  \n",
      "2  Somewhat more welcome now than last year         NaN         4          NaN  \n",
      "3  Somewhat less welcome now than last year        40.0         7            4  \n",
      "4   Just as welcome now as I felt last year         NaN        15            8  \n",
      "\n",
      "[5 rows x 61 columns]\n",
      "0        Monthly\n",
      "1            NaN\n",
      "2            NaN\n",
      "3            NaN\n",
      "4            NaN\n",
      "          ...   \n",
      "64456        NaN\n",
      "64457        NaN\n",
      "64458        NaN\n",
      "64459        NaN\n",
      "64460        NaN\n",
      "Name: CompFreq, Length: 64461, dtype: object\n"
     ]
    }
   ],
   "source": [
    "# your code goes here\n",
    "print(df.head())\n",
    "print(df.iloc[:, 5])"
   ]
  },
  {
   "cell_type": "markdown",
   "metadata": {},
   "source": [
    "## Find out the number of rows and columns\n"
   ]
  },
  {
   "cell_type": "markdown",
   "metadata": {},
   "source": [
    "Start by exploring the numbers of rows and columns of data in the dataset.\n"
   ]
  },
  {
   "cell_type": "markdown",
   "metadata": {},
   "source": [
    "Print the number of rows in the dataset.\n"
   ]
  },
  {
   "cell_type": "code",
   "execution_count": 8,
   "metadata": {},
   "outputs": [
    {
     "name": "stdout",
     "output_type": "stream",
     "text": [
      "64461\n"
     ]
    }
   ],
   "source": [
    "# your code goes here\n",
    "print(df.shape[0])"
   ]
  },
  {
   "cell_type": "markdown",
   "metadata": {},
   "source": [
    "Print the number of columns in the dataset.\n"
   ]
  },
  {
   "cell_type": "code",
   "execution_count": 9,
   "metadata": {},
   "outputs": [
    {
     "name": "stdout",
     "output_type": "stream",
     "text": [
      "61\n"
     ]
    }
   ],
   "source": [
    "# your code goes here\n",
    "print(df.shape[1])"
   ]
  },
  {
   "cell_type": "markdown",
   "metadata": {},
   "source": [
    "## Identify the data types of each column\n"
   ]
  },
  {
   "cell_type": "markdown",
   "metadata": {},
   "source": [
    "Explore the dataset and identify the data types of each column.\n"
   ]
  },
  {
   "cell_type": "markdown",
   "metadata": {},
   "source": [
    "Print the datatype of all columns.\n"
   ]
  },
  {
   "cell_type": "code",
   "execution_count": 10,
   "metadata": {},
   "outputs": [
    {
     "name": "stdout",
     "output_type": "stream",
     "text": [
      "Respondent              int64\n",
      "MainBranch             object\n",
      "Hobbyist               object\n",
      "Age                   float64\n",
      "Age1stCode             object\n",
      "                       ...   \n",
      "WebframeWorkedWith     object\n",
      "WelcomeChange          object\n",
      "WorkWeekHrs           float64\n",
      "YearsCode              object\n",
      "YearsCodePro           object\n",
      "Length: 61, dtype: object\n"
     ]
    }
   ],
   "source": [
    "# your code goes here\n",
    "print(df.dtypes)"
   ]
  },
  {
   "cell_type": "markdown",
   "metadata": {},
   "source": [
    "Print the mean age of the survey participants.\n"
   ]
  },
  {
   "cell_type": "code",
   "execution_count": 13,
   "metadata": {},
   "outputs": [
    {
     "name": "stdout",
     "output_type": "stream",
     "text": [
      "Mean Age: 30.83\n"
     ]
    }
   ],
   "source": [
    "# your code goes here\n",
    "mean_age = df['Age'].mean().round(2)\n",
    "print(f\"Mean Age: {mean_age}\")"
   ]
  },
  {
   "cell_type": "markdown",
   "metadata": {},
   "source": [
    "The dataset is the result of a world wide survey. Print how many unique countries are there in the Country column.\n"
   ]
  },
  {
   "cell_type": "code",
   "execution_count": 18,
   "metadata": {},
   "outputs": [
    {
     "name": "stdout",
     "output_type": "stream",
     "text": [
      "Number of unique countries: 183\n",
      "['Germany' 'United Kingdom' 'Russian Federation' 'Albania' 'United States'\n",
      " 'India' 'Tunisia' 'Spain' 'Netherlands' 'France' 'Belgium' 'Portugal'\n",
      " 'Canada' 'China' 'Ukraine' 'Italy' 'Brazil' 'Austria' 'Mexico' 'Sweden'\n",
      " 'Poland' 'Indonesia' 'Greece' 'Israel' 'Czech Republic'\n",
      " 'Bosnia and Herzegovina' 'Bulgaria' 'Serbia' 'Switzerland' 'Hungary'\n",
      " 'Nepal' 'Slovenia' 'Uruguay' 'Denmark' 'Pakistan' 'Taiwan' 'Romania'\n",
      " 'Finland' 'Costa Rica' 'Nigeria' 'Chile' 'Turkey' 'Panama' 'Ireland'\n",
      " 'Estonia' 'Philippines' 'Australia' 'Nomadic' 'Peru' 'Cyprus' 'Sri Lanka'\n",
      " 'Kenya' 'Norway' 'Kyrgyzstan' 'Iran' 'Croatia' 'Egypt' 'Argentina'\n",
      " 'Ghana' 'Latvia' 'Morocco' 'Bangladesh' 'Ecuador' 'Haiti'\n",
      " 'Venezuela, Bolivarian Republic of...' 'Colombia' 'Lithuania'\n",
      " 'El Salvador' 'Honduras' 'Ethiopia' 'Lebanon' 'Uganda' 'Algeria'\n",
      " 'Viet Nam' 'Guatemala' 'Syrian Arab Republic' 'Afghanistan' 'Slovakia'\n",
      " 'United Arab Emirates' 'Belarus' 'Sudan' 'South Africa' 'Jordan'\n",
      " 'Georgia' 'United Republic of Tanzania' 'Antigua and Barbuda'\n",
      " 'Saudi Arabia' 'New Zealand' 'Kuwait' 'Armenia' 'Republic of Moldova'\n",
      " 'Cuba' 'Luxembourg' 'Singapore' 'Azerbaijan' 'Dominican Republic'\n",
      " 'Iceland' 'Isle of Man' 'Uzbekistan' 'Trinidad and Tobago' 'Senegal'\n",
      " 'Andorra' 'Turkmenistan' 'Hong Kong (S.A.R.)' 'Benin' 'Bolivia'\n",
      " 'Republic of Korea' 'Japan' 'Malta' 'Iraq' 'South Korea' 'Paraguay'\n",
      " 'Malaysia' 'Thailand' 'Myanmar' 'Kazakhstan' 'Cambodia' 'Jamaica'\n",
      " 'Nicaragua' 'Maldives' 'Democratic Republic of the Congo'\n",
      " 'Papua New Guinea' 'Oman' 'The former Yugoslav Republic of Macedonia'\n",
      " 'Malawi' 'Qatar' 'Madagascar' 'Botswana' 'Angola' 'Montenegro' 'Yemen'\n",
      " 'Mongolia' 'Kosovo' 'Zambia' 'Zimbabwe' 'Libyan Arab Jamahiriya'\n",
      " 'Mozambique' 'Somalia' 'Eritrea' 'Namibia' 'Rwanda' 'Burkina Faso'\n",
      " 'Congo, Republic of the...' 'Swaziland' 'Bhutan' 'Cameroon' 'Bahrain'\n",
      " \"Côte d'Ivoire\" 'Sierra Leone' 'Togo' 'Niger' 'Barbados' 'Belize'\n",
      " 'Saint Vincent and the Grenadines' \"Lao People's Democratic Republic\"\n",
      " 'Tajikistan' 'Mauritius' 'Guinea' 'Brunei Darussalam' 'Bahamas'\n",
      " 'Mauritania' 'Saint Lucia' 'Djibouti' 'San Marino' 'Lesotho' 'Nauru' nan\n",
      " 'Burundi' 'Fiji' 'Kiribati' 'Grenada' 'Chad' 'Mali' 'Guyana'\n",
      " 'Micronesia, Federated States of...' 'Gambia' 'North Korea'\n",
      " 'Liechtenstein' 'Monaco' 'Timor-Leste' 'Solomon Islands' 'Cape Verde'\n",
      " 'Gabon' 'Marshall Islands']\n"
     ]
    }
   ],
   "source": [
    "num_countries = df['Country'].nunique()\n",
    "print(f\"Number of unique countries: {num_countries}\")\n",
    "\n",
    "print(df['Country'].unique())"
   ]
  },
  {
   "cell_type": "markdown",
   "metadata": {},
   "source": [
    "## Authors\n"
   ]
  },
  {
   "cell_type": "markdown",
   "metadata": {},
   "source": [
    "Ramesh Sannareddy\n"
   ]
  },
  {
   "cell_type": "markdown",
   "metadata": {},
   "source": [
    "### Other Contributors\n"
   ]
  },
  {
   "cell_type": "markdown",
   "metadata": {},
   "source": [
    "Rav Ahuja\n"
   ]
  },
  {
   "cell_type": "markdown",
   "metadata": {},
   "source": [
    "## Change Log\n"
   ]
  },
  {
   "cell_type": "markdown",
   "metadata": {},
   "source": [
    "| Date (YYYY-MM-DD) | Version | Changed By        | Change Description                 |\n",
    "| ----------------- | ------- | ----------------- | ---------------------------------- |\n",
    "| 2020-10-17        | 0.1     | Ramesh Sannareddy | Created initial version of the lab |\n"
   ]
  },
  {
   "cell_type": "markdown",
   "metadata": {},
   "source": [
    " Copyright © 2020 IBM Corporation. This notebook and its source code are released under the terms of the [MIT License](https://cognitiveclass.ai/mit-license?utm_medium=Exinfluencer&utm_source=Exinfluencer&utm_content=000026UJ&utm_term=10006555&utm_id=NA-SkillsNetwork-Channel-SkillsNetworkCoursesIBMDA0321ENSkillsNetwork928-2023-01-01&cm_mmc=Email_Newsletter-_-Developer_Ed%2BTech-_-WW_WW-_-SkillsNetwork-Courses-IBM-DA0321EN-SkillsNetwork-21426264&cm_mmca1=000026UJ&cm_mmca2=10006555&cm_mmca3=M12345678&cvosrc=email.Newsletter.M12345678&cvo_campaign=000026UJ).\n"
   ]
  }
 ],
 "metadata": {
  "kernelspec": {
   "display_name": "Python 3",
   "language": "python",
   "name": "python3"
  },
  "language_info": {
   "codemirror_mode": {
    "name": "ipython",
    "version": 3
   },
   "file_extension": ".py",
   "mimetype": "text/x-python",
   "name": "python",
   "nbconvert_exporter": "python",
   "pygments_lexer": "ipython3",
   "version": "3.13.0"
  }
 },
 "nbformat": 4,
 "nbformat_minor": 4
}
